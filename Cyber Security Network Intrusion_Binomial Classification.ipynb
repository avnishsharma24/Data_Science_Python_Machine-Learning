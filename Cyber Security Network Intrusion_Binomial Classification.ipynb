{
 "cells": [
  {
   "cell_type": "code",
   "execution_count": 1,
   "id": "e695d0fd",
   "metadata": {},
   "outputs": [],
   "source": [
    "import numpy as np\n",
    "import pandas as pd\n",
    "import matplotlib.pyplot as plt\n",
    "import seaborn as sns\n",
    "import warnings\n",
    "warnings.filterwarnings(\"ignore\")\n",
    "import datetime\n",
    "from sklearn import metrics"
   ]
  },
  {
   "cell_type": "markdown",
   "id": "a908c5f6",
   "metadata": {},
   "source": [
    "#### UDF's"
   ]
  },
  {
   "cell_type": "code",
   "execution_count": 2,
   "id": "dd83b97e",
   "metadata": {},
   "outputs": [],
   "source": [
    "# Create Data audit Report for continuous variables\n",
    "def continuous_var_summary(x):\n",
    "    return pd.Series([x.count(), x.isnull().sum(), x.sum(), x.mean(), x.median(),  \n",
    "                      x.std(), x.var(), x.min(), x.quantile(0.01), x.quantile(0.05),\n",
    "                          x.quantile(0.10),x.quantile(0.25),x.quantile(0.50),x.quantile(0.75), \n",
    "                              x.quantile(0.90),x.quantile(0.95), x.quantile(0.99),x.max()], \n",
    "                  index = ['N', 'NMISS', 'SUM', 'MEAN','MEDIAN', 'STD', 'VAR', 'MIN', 'P1', \n",
    "                               'P5' ,'P10' ,'P25' ,'P50' ,'P75' ,'P90' ,'P95' ,'P99' ,'MAX'])"
   ]
  },
  {
   "cell_type": "code",
   "execution_count": 3,
   "id": "c4147ad9",
   "metadata": {},
   "outputs": [],
   "source": [
    "# Create Data audit Report for categorical variables\n",
    "def categorical_var_summary(x):\n",
    "    Mode = x.value_counts().sort_values(ascending = False)[0:1].reset_index()\n",
    "    return pd.Series([x.count(), x.isnull().sum(), Mode.iloc[0, 0], Mode.iloc[0, 1], \n",
    "                          round(Mode.iloc[0, 1] * 100/x.count(), 2)], \n",
    "                  index = ['N', 'NMISS', 'MODE', 'FREQ', 'PERCENT'])"
   ]
  },
  {
   "cell_type": "code",
   "execution_count": 4,
   "id": "84e547e0",
   "metadata": {},
   "outputs": [],
   "source": [
    "# Missing value imputation for categorical and continuous variables\n",
    "def missing_imputation(x, stats = 'mean'):\n",
    "    if (x.dtypes == 'float64') | (x.dtypes == 'int64'):\n",
    "        x = x.fillna(x.mean()) if stats == 'mean' else x.fillna(x.median())\n",
    "    return x"
   ]
  },
  {
   "cell_type": "code",
   "execution_count": 5,
   "id": "87d19e79",
   "metadata": {},
   "outputs": [],
   "source": [
    "# An utility function to create dummy variable\n",
    "def create_dummies(df, colname):\n",
    "    col_dummies = pd.get_dummies(df[colname], prefix = colname, drop_first = True)\n",
    "    df = pd.concat([df, col_dummies], axis = 1)\n",
    "    df.drop(colname, axis = 1, inplace = True )\n",
    "    return df"
   ]
  },
  {
   "cell_type": "markdown",
   "id": "fd1c4324",
   "metadata": {},
   "source": [
    "### data import and inspection"
   ]
  },
  {
   "cell_type": "code",
   "execution_count": 6,
   "id": "8c5efcad",
   "metadata": {},
   "outputs": [],
   "source": [
    "Attack_Back=pd.read_csv('C:/Users/avnis/Case study/Machine Learning/CS 12/Data_of_Attack_Back.csv')\n",
    "Attack_Back_BackButterOverflow=pd.read_csv('C:/Users/avnis/Case study/Machine Learning/CS 12/Data_of_Attack_Back_BufferOverflow.csv')\n",
    "Attack_Back_FTPWrite=pd.read_csv('C:/Users/avnis/Case study/Machine Learning/CS 12/Data_of_Attack_Back_FTPWrite.csv')\n",
    "Attack_Back_GuessPassword=pd.read_csv('C:/Users/avnis/Case study/Machine Learning/CS 12/Data_of_Attack_Back_GuessPassword.csv')\n",
    "Attack_Back_Neptune=pd.read_csv('C:/Users/avnis/Case study/Machine Learning/CS 12/Data_of_Attack_Back_Neptune.csv')\n",
    "Attack_Back_NMap=pd.read_csv('C:/Users/avnis/Case study/Machine Learning/CS 12/Data_of_Attack_Back_NMap.csv')\n",
    "Attack_Back_Normal=pd.read_csv('C:/Users/avnis/Case study/Machine Learning/CS 12/Data_of_Attack_Back_Normal.csv')\n",
    "Attack_Back_PortSweep=pd.read_csv('C:/Users/avnis/Case study/Machine Learning/CS 12/Data_of_Attack_Back_PortSweep.csv')\n",
    "Attack_Back_RootKit=pd.read_csv('C:/Users/avnis/Case study/Machine Learning/CS 12/Data_of_Attack_Back_RootKit.csv')\n",
    "Attack_Back_Satan=pd.read_csv('C:/Users/avnis/Case study/Machine Learning/CS 12/Data_of_Attack_Back_Satan.csv')\n",
    "Attack_Back_Smurf=pd.read_csv('C:/Users/avnis/Case study/Machine Learning/CS 12/Data_of_Attack_Back_Smurf.csv')"
   ]
  },
  {
   "cell_type": "code",
   "execution_count": 7,
   "id": "317f84ae",
   "metadata": {},
   "outputs": [],
   "source": [
    "Attack_Back['ATTACK']='Attack'\n",
    "Attack_Back_BackButterOverflow['ATTACK']='Attack'\n",
    "Attack_Back_FTPWrite['ATTACK']='Attack'\n",
    "Attack_Back_GuessPassword['ATTACK']='Attack'\n",
    "Attack_Back_Neptune['ATTACK']='Attack'\n",
    "Attack_Back_NMap['ATTACK']='Attack'\n",
    "Attack_Back_PortSweep['ATTACK']='Attack'\n",
    "Attack_Back_RootKit['ATTACK']='Attack'\n",
    "Attack_Back_Satan['ATTACK']='Attack'\n",
    "Attack_Back_Smurf['ATTACK']='Attack'\n",
    "Attack_Back_Normal['ATTACK']='Normal'"
   ]
  },
  {
   "cell_type": "code",
   "execution_count": 8,
   "id": "67ef868a",
   "metadata": {},
   "outputs": [
    {
     "data": {
      "text/html": [
       "<div>\n",
       "<style scoped>\n",
       "    .dataframe tbody tr th:only-of-type {\n",
       "        vertical-align: middle;\n",
       "    }\n",
       "\n",
       "    .dataframe tbody tr th {\n",
       "        vertical-align: top;\n",
       "    }\n",
       "\n",
       "    .dataframe thead th {\n",
       "        text-align: right;\n",
       "    }\n",
       "</style>\n",
       "<table border=\"1\" class=\"dataframe\">\n",
       "  <thead>\n",
       "    <tr style=\"text-align: right;\">\n",
       "      <th></th>\n",
       "      <th>duration</th>\n",
       "      <th>protocol_type</th>\n",
       "      <th>service</th>\n",
       "      <th>flag</th>\n",
       "      <th>src_bytes</th>\n",
       "      <th>dst_bytes</th>\n",
       "      <th>land</th>\n",
       "      <th>wrong_fragment</th>\n",
       "      <th>urgent</th>\n",
       "      <th>hot</th>\n",
       "      <th>...</th>\n",
       "      <th>dst_host_srv_count</th>\n",
       "      <th>dst_host_same_srv_rate</th>\n",
       "      <th>dst_host_diff_srv_rate</th>\n",
       "      <th>dst_host_same_src_port_rate</th>\n",
       "      <th>dst_host_srv_diff_host_rate</th>\n",
       "      <th>dst_host_serror_rate</th>\n",
       "      <th>dst_host_srv_serror_rate</th>\n",
       "      <th>dst_host_rerror_rate</th>\n",
       "      <th>dst_host_srv_rerror_rate</th>\n",
       "      <th>ATTACK</th>\n",
       "    </tr>\n",
       "  </thead>\n",
       "  <tbody>\n",
       "    <tr>\n",
       "      <th>0</th>\n",
       "      <td>0.0</td>\n",
       "      <td>0</td>\n",
       "      <td>0</td>\n",
       "      <td>0.0</td>\n",
       "      <td>0.5454</td>\n",
       "      <td>0.08314</td>\n",
       "      <td>0</td>\n",
       "      <td>0</td>\n",
       "      <td>0</td>\n",
       "      <td>0.2</td>\n",
       "      <td>...</td>\n",
       "      <td>0.001</td>\n",
       "      <td>0.1</td>\n",
       "      <td>0</td>\n",
       "      <td>0.10</td>\n",
       "      <td>0</td>\n",
       "      <td>0.0</td>\n",
       "      <td>0.0</td>\n",
       "      <td>0.0</td>\n",
       "      <td>0.0</td>\n",
       "      <td>Attack</td>\n",
       "    </tr>\n",
       "    <tr>\n",
       "      <th>1</th>\n",
       "      <td>0.0</td>\n",
       "      <td>0</td>\n",
       "      <td>0</td>\n",
       "      <td>0.0</td>\n",
       "      <td>0.5454</td>\n",
       "      <td>0.08314</td>\n",
       "      <td>0</td>\n",
       "      <td>0</td>\n",
       "      <td>0</td>\n",
       "      <td>0.2</td>\n",
       "      <td>...</td>\n",
       "      <td>0.002</td>\n",
       "      <td>0.1</td>\n",
       "      <td>0</td>\n",
       "      <td>0.05</td>\n",
       "      <td>0</td>\n",
       "      <td>0.0</td>\n",
       "      <td>0.0</td>\n",
       "      <td>0.0</td>\n",
       "      <td>0.0</td>\n",
       "      <td>Attack</td>\n",
       "    </tr>\n",
       "  </tbody>\n",
       "</table>\n",
       "<p>2 rows × 42 columns</p>\n",
       "</div>"
      ],
      "text/plain": [
       "   duration   protocol_type   service   flag   src_bytes   dst_bytes   land  \\\n",
       "0       0.0               0         0    0.0      0.5454     0.08314      0   \n",
       "1       0.0               0         0    0.0      0.5454     0.08314      0   \n",
       "\n",
       "    wrong_fragment   urgent   hot  ...   dst_host_srv_count  \\\n",
       "0                0        0   0.2  ...                0.001   \n",
       "1                0        0   0.2  ...                0.002   \n",
       "\n",
       "    dst_host_same_srv_rate   dst_host_diff_srv_rate  \\\n",
       "0                      0.1                        0   \n",
       "1                      0.1                        0   \n",
       "\n",
       "    dst_host_same_src_port_rate   dst_host_srv_diff_host_rate  \\\n",
       "0                          0.10                             0   \n",
       "1                          0.05                             0   \n",
       "\n",
       "    dst_host_serror_rate   dst_host_srv_serror_rate   dst_host_rerror_rate  \\\n",
       "0                    0.0                        0.0                    0.0   \n",
       "1                    0.0                        0.0                    0.0   \n",
       "\n",
       "    dst_host_srv_rerror_rate  ATTACK  \n",
       "0                        0.0  Attack  \n",
       "1                        0.0  Attack  \n",
       "\n",
       "[2 rows x 42 columns]"
      ]
     },
     "execution_count": 8,
     "metadata": {},
     "output_type": "execute_result"
    }
   ],
   "source": [
    "Attack_Back.head(2)"
   ]
  },
  {
   "cell_type": "code",
   "execution_count": 9,
   "id": "8e3e8d68",
   "metadata": {},
   "outputs": [],
   "source": [
    "Data=pd.concat([Attack_Back,Attack_Back_BackButterOverflow,Attack_Back_FTPWrite,\n",
    "               Attack_Back_GuessPassword,Attack_Back_Neptune,Attack_Back_NMap,\n",
    "               Attack_Back_Normal,Attack_Back_PortSweep,Attack_Back_RootKit,\n",
    "               Attack_Back_Satan,Attack_Back_Smurf],axis=0,ignore_index=True)"
   ]
  },
  {
   "cell_type": "code",
   "execution_count": 10,
   "id": "c43ba51e",
   "metadata": {},
   "outputs": [],
   "source": [
    "Data.drop(['0.0026', ' 0', ' 0.07', ' 0.1',\n",
    "       ' 0.00116',' 0.00451', ' 0.2', ' 0.3', ' 0.4', ' 0.2.1', ' 0.5',\n",
    "       ' 0.1.1', ' 0.6', ' 0.7', ' 0.8', ' 0.9', ' 0.1.2', ' 0.10', ' 0.1.3',\n",
    "       ' 0.11', ' 0.12', ' 0.1.4', ' 0.001', ' 0.001.1', ' 0.13', ' 0.14',\n",
    "       ' 0.15', ' 0.16', ' 0.1.5', ' 0.17', ' 0.18', ' 0.001.2', ' 0.001.3',\n",
    "       ' 0.1.6', ' 0.19', ' 0.1.7', ' 0.20', ' 0.21', ' 0.22', ' 0.23',\n",
    "       ' 0.24'],axis=1,inplace=True)"
   ]
  },
  {
   "cell_type": "code",
   "execution_count": 11,
   "id": "6bf7bafb",
   "metadata": {},
   "outputs": [
    {
     "data": {
      "text/plain": [
       "(817550, 42)"
      ]
     },
     "execution_count": 11,
     "metadata": {},
     "output_type": "execute_result"
    }
   ],
   "source": [
    "Data.shape"
   ]
  },
  {
   "cell_type": "code",
   "execution_count": 12,
   "id": "a66f343c",
   "metadata": {},
   "outputs": [
    {
     "name": "stdout",
     "output_type": "stream",
     "text": [
      "<class 'pandas.core.frame.DataFrame'>\n",
      "RangeIndex: 817550 entries, 0 to 817549\n",
      "Data columns (total 42 columns):\n",
      " #   Column                        Non-Null Count   Dtype  \n",
      "---  ------                        --------------   -----  \n",
      " 0   duration                      817543 non-null  float64\n",
      " 1    protocol_type                817543 non-null  float64\n",
      " 2    service                      817543 non-null  float64\n",
      " 3    flag                         817543 non-null  float64\n",
      " 4    src_bytes                    817543 non-null  float64\n",
      " 5    dst_bytes                    817543 non-null  float64\n",
      " 6    land                         817543 non-null  float64\n",
      " 7    wrong_fragment               817543 non-null  float64\n",
      " 8    urgent                       817543 non-null  float64\n",
      " 9    hot                          817543 non-null  float64\n",
      " 10   num_failed_logins            817543 non-null  float64\n",
      " 11   logged_in                    817543 non-null  float64\n",
      " 12   num_compromised              817543 non-null  float64\n",
      " 13   root_shell                   817543 non-null  float64\n",
      " 14   su_attempted                 817543 non-null  float64\n",
      " 15   num_root                     817543 non-null  float64\n",
      " 16   num_file_creations           817543 non-null  float64\n",
      " 17   num_shells                   817543 non-null  float64\n",
      " 18   num_access_files             817543 non-null  float64\n",
      " 19   num_outbound_cmds            817543 non-null  float64\n",
      " 20   is_host_login                817543 non-null  float64\n",
      " 21   is_guest_login               817543 non-null  float64\n",
      " 22   count                        817543 non-null  float64\n",
      " 23   srv_count                    817543 non-null  float64\n",
      " 24   serror_rate                  817543 non-null  float64\n",
      " 25   srv_error_rate               817543 non-null  float64\n",
      " 26   rerror_rate                  817543 non-null  float64\n",
      " 27   srv_rerror_rate              817543 non-null  float64\n",
      " 28   same_srv_rate                817543 non-null  float64\n",
      " 29   diff_srv_rate                817543 non-null  float64\n",
      " 30   srv_diff_host_rate           817543 non-null  float64\n",
      " 31   dst_host_count               817543 non-null  float64\n",
      " 32   dst_host_srv_count           817543 non-null  float64\n",
      " 33   dst_host_same_srv_rate       817543 non-null  float64\n",
      " 34   dst_host_diff_srv_rate       817543 non-null  float64\n",
      " 35   dst_host_same_src_port_rate  817543 non-null  float64\n",
      " 36   dst_host_srv_diff_host_rate  817543 non-null  float64\n",
      " 37   dst_host_serror_rate         817543 non-null  float64\n",
      " 38   dst_host_srv_serror_rate     817543 non-null  float64\n",
      " 39   dst_host_rerror_rate         817543 non-null  float64\n",
      " 40   dst_host_srv_rerror_rate     817543 non-null  float64\n",
      " 41  ATTACK                        817550 non-null  object \n",
      "dtypes: float64(41), object(1)\n",
      "memory usage: 262.0+ MB\n"
     ]
    }
   ],
   "source": [
    "Data.info()"
   ]
  },
  {
   "cell_type": "code",
   "execution_count": 13,
   "id": "5fc8c01d",
   "metadata": {},
   "outputs": [
    {
     "data": {
      "text/plain": [
       "duration                          918\n",
       " protocol_type                      3\n",
       " service                           67\n",
       " flag                              11\n",
       " src_bytes                       5908\n",
       " dst_bytes                      18398\n",
       " land                               1\n",
       " wrong_fragment                     2\n",
       " urgent                             5\n",
       " hot                               11\n",
       " num_failed_logins                  6\n",
       " logged_in                          2\n",
       " num_compromised                   11\n",
       " root_shell                         2\n",
       " su_attempted                       3\n",
       " num_root                          11\n",
       " num_file_creations                11\n",
       " num_shells                         3\n",
       " num_access_files                   9\n",
       " num_outbound_cmds                  1\n",
       " is_host_login                      2\n",
       " is_guest_login                     2\n",
       " count                            512\n",
       " srv_count                        512\n",
       " serror_rate                       96\n",
       " srv_error_rate                    75\n",
       " rerror_rate                       85\n",
       " srv_rerror_rate                   60\n",
       " same_srv_rate                    101\n",
       " diff_srv_rate                     90\n",
       " srv_diff_host_rate                72\n",
       " dst_host_count                   256\n",
       " dst_host_srv_count               256\n",
       " dst_host_same_srv_rate           101\n",
       " dst_host_diff_srv_rate           101\n",
       " dst_host_same_src_port_rate      101\n",
       " dst_host_srv_diff_host_rate       68\n",
       " dst_host_serror_rate             101\n",
       " dst_host_srv_serror_rate          97\n",
       " dst_host_rerror_rate             101\n",
       " dst_host_srv_rerror_rate         101\n",
       "ATTACK                              2\n",
       "dtype: int64"
      ]
     },
     "execution_count": 13,
     "metadata": {},
     "output_type": "execute_result"
    }
   ],
   "source": [
    "Data.nunique()"
   ]
  },
  {
   "cell_type": "markdown",
   "id": "4e8744ad",
   "metadata": {},
   "source": [
    "### EXPLORATORY ANALYSIS"
   ]
  },
  {
   "cell_type": "code",
   "execution_count": 14,
   "id": "4d0a2e7c",
   "metadata": {},
   "outputs": [
    {
     "data": {
      "text/html": [
       "<div>\n",
       "<style scoped>\n",
       "    .dataframe tbody tr th:only-of-type {\n",
       "        vertical-align: middle;\n",
       "    }\n",
       "\n",
       "    .dataframe tbody tr th {\n",
       "        vertical-align: top;\n",
       "    }\n",
       "\n",
       "    .dataframe thead th {\n",
       "        text-align: right;\n",
       "    }\n",
       "</style>\n",
       "<table border=\"1\" class=\"dataframe\">\n",
       "  <thead>\n",
       "    <tr style=\"text-align: right;\">\n",
       "      <th></th>\n",
       "      <th>duration</th>\n",
       "      <th>protocol_type</th>\n",
       "      <th>service</th>\n",
       "      <th>flag</th>\n",
       "      <th>src_bytes</th>\n",
       "      <th>dst_bytes</th>\n",
       "      <th>land</th>\n",
       "      <th>wrong_fragment</th>\n",
       "      <th>urgent</th>\n",
       "      <th>hot</th>\n",
       "      <th>...</th>\n",
       "      <th>dst_host_count</th>\n",
       "      <th>dst_host_srv_count</th>\n",
       "      <th>dst_host_same_srv_rate</th>\n",
       "      <th>dst_host_diff_srv_rate</th>\n",
       "      <th>dst_host_same_src_port_rate</th>\n",
       "      <th>dst_host_srv_diff_host_rate</th>\n",
       "      <th>dst_host_serror_rate</th>\n",
       "      <th>dst_host_srv_serror_rate</th>\n",
       "      <th>dst_host_rerror_rate</th>\n",
       "      <th>dst_host_srv_rerror_rate</th>\n",
       "    </tr>\n",
       "  </thead>\n",
       "  <tbody>\n",
       "    <tr>\n",
       "      <th>N</th>\n",
       "      <td>817543.000000</td>\n",
       "      <td>817543.000000</td>\n",
       "      <td>817543.000000</td>\n",
       "      <td>817543.000000</td>\n",
       "      <td>817543.000000</td>\n",
       "      <td>817543.000000</td>\n",
       "      <td>817543.0</td>\n",
       "      <td>8.175430e+05</td>\n",
       "      <td>8.175430e+05</td>\n",
       "      <td>817543.000000</td>\n",
       "      <td>...</td>\n",
       "      <td>817543.000000</td>\n",
       "      <td>817543.000000</td>\n",
       "      <td>817543.000000</td>\n",
       "      <td>817543.000000</td>\n",
       "      <td>817543.000000</td>\n",
       "      <td>817543.000000</td>\n",
       "      <td>817543.000000</td>\n",
       "      <td>817543.000000</td>\n",
       "      <td>817543.000000</td>\n",
       "      <td>817543.000000</td>\n",
       "    </tr>\n",
       "    <tr>\n",
       "      <th>NMISS</th>\n",
       "      <td>7.000000</td>\n",
       "      <td>7.000000</td>\n",
       "      <td>7.000000</td>\n",
       "      <td>7.000000</td>\n",
       "      <td>7.000000</td>\n",
       "      <td>7.000000</td>\n",
       "      <td>7.0</td>\n",
       "      <td>7.000000e+00</td>\n",
       "      <td>7.000000e+00</td>\n",
       "      <td>7.000000</td>\n",
       "      <td>...</td>\n",
       "      <td>7.000000</td>\n",
       "      <td>7.000000</td>\n",
       "      <td>7.000000</td>\n",
       "      <td>7.000000</td>\n",
       "      <td>7.000000</td>\n",
       "      <td>7.000000</td>\n",
       "      <td>7.000000</td>\n",
       "      <td>7.000000</td>\n",
       "      <td>7.000000</td>\n",
       "      <td>7.000000</td>\n",
       "    </tr>\n",
       "    <tr>\n",
       "      <th>SUM</th>\n",
       "      <td>716.808800</td>\n",
       "      <td>465.680000</td>\n",
       "      <td>43254.220000</td>\n",
       "      <td>16481.500000</td>\n",
       "      <td>4056.166760</td>\n",
       "      <td>20325.602660</td>\n",
       "      <td>0.0</td>\n",
       "      <td>3.000000e-01</td>\n",
       "      <td>1.800000e+00</td>\n",
       "      <td>2007.300000</td>\n",
       "      <td>...</td>\n",
       "      <td>136423.290000</td>\n",
       "      <td>132158.013000</td>\n",
       "      <td>54607.321000</td>\n",
       "      <td>2763.120000</td>\n",
       "      <td>5025.482000</td>\n",
       "      <td>1375.513000</td>\n",
       "      <td>20328.601000</td>\n",
       "      <td>20317.676000</td>\n",
       "      <td>4392.049000</td>\n",
       "      <td>4315.787000</td>\n",
       "    </tr>\n",
       "    <tr>\n",
       "      <th>MEAN</th>\n",
       "      <td>0.000877</td>\n",
       "      <td>0.000570</td>\n",
       "      <td>0.052908</td>\n",
       "      <td>0.020160</td>\n",
       "      <td>0.004961</td>\n",
       "      <td>0.024862</td>\n",
       "      <td>0.0</td>\n",
       "      <td>3.669532e-07</td>\n",
       "      <td>2.201719e-06</td>\n",
       "      <td>0.002455</td>\n",
       "      <td>...</td>\n",
       "      <td>0.166870</td>\n",
       "      <td>0.161653</td>\n",
       "      <td>0.066794</td>\n",
       "      <td>0.003380</td>\n",
       "      <td>0.006147</td>\n",
       "      <td>0.001682</td>\n",
       "      <td>0.024865</td>\n",
       "      <td>0.024852</td>\n",
       "      <td>0.005372</td>\n",
       "      <td>0.005279</td>\n",
       "    </tr>\n",
       "    <tr>\n",
       "      <th>MEDIAN</th>\n",
       "      <td>0.000000</td>\n",
       "      <td>0.000000</td>\n",
       "      <td>0.000000</td>\n",
       "      <td>0.000000</td>\n",
       "      <td>0.002170</td>\n",
       "      <td>0.003670</td>\n",
       "      <td>0.0</td>\n",
       "      <td>0.000000e+00</td>\n",
       "      <td>0.000000e+00</td>\n",
       "      <td>0.000000</td>\n",
       "      <td>...</td>\n",
       "      <td>0.255000</td>\n",
       "      <td>0.255000</td>\n",
       "      <td>0.100000</td>\n",
       "      <td>0.000000</td>\n",
       "      <td>0.000000</td>\n",
       "      <td>0.000000</td>\n",
       "      <td>0.000000</td>\n",
       "      <td>0.000000</td>\n",
       "      <td>0.000000</td>\n",
       "      <td>0.000000</td>\n",
       "    </tr>\n",
       "    <tr>\n",
       "      <th>STD</th>\n",
       "      <td>0.026636</td>\n",
       "      <td>0.002596</td>\n",
       "      <td>0.096388</td>\n",
       "      <td>0.030960</td>\n",
       "      <td>0.033235</td>\n",
       "      <td>0.066634</td>\n",
       "      <td>0.0</td>\n",
       "      <td>3.317920e-04</td>\n",
       "      <td>7.662382e-04</td>\n",
       "      <td>0.041469</td>\n",
       "      <td>...</td>\n",
       "      <td>0.102057</td>\n",
       "      <td>0.111642</td>\n",
       "      <td>0.043421</td>\n",
       "      <td>0.008556</td>\n",
       "      <td>0.017458</td>\n",
       "      <td>0.003708</td>\n",
       "      <td>0.043062</td>\n",
       "      <td>0.043152</td>\n",
       "      <td>0.021920</td>\n",
       "      <td>0.022070</td>\n",
       "    </tr>\n",
       "    <tr>\n",
       "      <th>VAR</th>\n",
       "      <td>0.000709</td>\n",
       "      <td>0.000007</td>\n",
       "      <td>0.009291</td>\n",
       "      <td>0.000958</td>\n",
       "      <td>0.001105</td>\n",
       "      <td>0.004440</td>\n",
       "      <td>0.0</td>\n",
       "      <td>1.100860e-07</td>\n",
       "      <td>5.871210e-07</td>\n",
       "      <td>0.001720</td>\n",
       "      <td>...</td>\n",
       "      <td>0.010416</td>\n",
       "      <td>0.012464</td>\n",
       "      <td>0.001885</td>\n",
       "      <td>0.000073</td>\n",
       "      <td>0.000305</td>\n",
       "      <td>0.000014</td>\n",
       "      <td>0.001854</td>\n",
       "      <td>0.001862</td>\n",
       "      <td>0.000480</td>\n",
       "      <td>0.000487</td>\n",
       "    </tr>\n",
       "    <tr>\n",
       "      <th>MIN</th>\n",
       "      <td>0.000000</td>\n",
       "      <td>0.000000</td>\n",
       "      <td>0.000000</td>\n",
       "      <td>0.000000</td>\n",
       "      <td>0.000000</td>\n",
       "      <td>0.000000</td>\n",
       "      <td>0.0</td>\n",
       "      <td>0.000000e+00</td>\n",
       "      <td>0.000000e+00</td>\n",
       "      <td>0.000000</td>\n",
       "      <td>...</td>\n",
       "      <td>0.000000</td>\n",
       "      <td>0.000000</td>\n",
       "      <td>0.000000</td>\n",
       "      <td>0.000000</td>\n",
       "      <td>0.000000</td>\n",
       "      <td>0.000000</td>\n",
       "      <td>0.000000</td>\n",
       "      <td>0.000000</td>\n",
       "      <td>0.000000</td>\n",
       "      <td>0.000000</td>\n",
       "    </tr>\n",
       "    <tr>\n",
       "      <th>P1</th>\n",
       "      <td>0.000000</td>\n",
       "      <td>0.000000</td>\n",
       "      <td>0.000000</td>\n",
       "      <td>0.000000</td>\n",
       "      <td>0.000000</td>\n",
       "      <td>0.000000</td>\n",
       "      <td>0.0</td>\n",
       "      <td>0.000000e+00</td>\n",
       "      <td>0.000000e+00</td>\n",
       "      <td>0.000000</td>\n",
       "      <td>...</td>\n",
       "      <td>0.001000</td>\n",
       "      <td>0.001000</td>\n",
       "      <td>0.000000</td>\n",
       "      <td>0.000000</td>\n",
       "      <td>0.000000</td>\n",
       "      <td>0.000000</td>\n",
       "      <td>0.000000</td>\n",
       "      <td>0.000000</td>\n",
       "      <td>0.000000</td>\n",
       "      <td>0.000000</td>\n",
       "    </tr>\n",
       "    <tr>\n",
       "      <th>P5</th>\n",
       "      <td>0.000000</td>\n",
       "      <td>0.000000</td>\n",
       "      <td>0.000000</td>\n",
       "      <td>0.000000</td>\n",
       "      <td>0.000000</td>\n",
       "      <td>0.000000</td>\n",
       "      <td>0.0</td>\n",
       "      <td>0.000000e+00</td>\n",
       "      <td>0.000000e+00</td>\n",
       "      <td>0.000000</td>\n",
       "      <td>...</td>\n",
       "      <td>0.006000</td>\n",
       "      <td>0.003000</td>\n",
       "      <td>0.001000</td>\n",
       "      <td>0.000000</td>\n",
       "      <td>0.000000</td>\n",
       "      <td>0.000000</td>\n",
       "      <td>0.000000</td>\n",
       "      <td>0.000000</td>\n",
       "      <td>0.000000</td>\n",
       "      <td>0.000000</td>\n",
       "    </tr>\n",
       "    <tr>\n",
       "      <th>P10</th>\n",
       "      <td>0.000000</td>\n",
       "      <td>0.000000</td>\n",
       "      <td>0.000000</td>\n",
       "      <td>0.000000</td>\n",
       "      <td>0.000000</td>\n",
       "      <td>0.000000</td>\n",
       "      <td>0.0</td>\n",
       "      <td>0.000000e+00</td>\n",
       "      <td>0.000000e+00</td>\n",
       "      <td>0.000000</td>\n",
       "      <td>...</td>\n",
       "      <td>0.013000</td>\n",
       "      <td>0.007000</td>\n",
       "      <td>0.003000</td>\n",
       "      <td>0.000000</td>\n",
       "      <td>0.000000</td>\n",
       "      <td>0.000000</td>\n",
       "      <td>0.000000</td>\n",
       "      <td>0.000000</td>\n",
       "      <td>0.000000</td>\n",
       "      <td>0.000000</td>\n",
       "    </tr>\n",
       "    <tr>\n",
       "      <th>P25</th>\n",
       "      <td>0.000000</td>\n",
       "      <td>0.000000</td>\n",
       "      <td>0.000000</td>\n",
       "      <td>0.000000</td>\n",
       "      <td>0.000000</td>\n",
       "      <td>0.000000</td>\n",
       "      <td>0.0</td>\n",
       "      <td>0.000000e+00</td>\n",
       "      <td>0.000000e+00</td>\n",
       "      <td>0.000000</td>\n",
       "      <td>...</td>\n",
       "      <td>0.054000</td>\n",
       "      <td>0.017000</td>\n",
       "      <td>0.007000</td>\n",
       "      <td>0.000000</td>\n",
       "      <td>0.000000</td>\n",
       "      <td>0.000000</td>\n",
       "      <td>0.000000</td>\n",
       "      <td>0.000000</td>\n",
       "      <td>0.000000</td>\n",
       "      <td>0.000000</td>\n",
       "    </tr>\n",
       "    <tr>\n",
       "      <th>P50</th>\n",
       "      <td>0.000000</td>\n",
       "      <td>0.000000</td>\n",
       "      <td>0.000000</td>\n",
       "      <td>0.000000</td>\n",
       "      <td>0.002170</td>\n",
       "      <td>0.003670</td>\n",
       "      <td>0.0</td>\n",
       "      <td>0.000000e+00</td>\n",
       "      <td>0.000000e+00</td>\n",
       "      <td>0.000000</td>\n",
       "      <td>...</td>\n",
       "      <td>0.255000</td>\n",
       "      <td>0.255000</td>\n",
       "      <td>0.100000</td>\n",
       "      <td>0.000000</td>\n",
       "      <td>0.000000</td>\n",
       "      <td>0.000000</td>\n",
       "      <td>0.000000</td>\n",
       "      <td>0.000000</td>\n",
       "      <td>0.000000</td>\n",
       "      <td>0.000000</td>\n",
       "    </tr>\n",
       "    <tr>\n",
       "      <th>P75</th>\n",
       "      <td>0.000000</td>\n",
       "      <td>0.000000</td>\n",
       "      <td>0.120000</td>\n",
       "      <td>0.070000</td>\n",
       "      <td>0.002990</td>\n",
       "      <td>0.019690</td>\n",
       "      <td>0.0</td>\n",
       "      <td>0.000000e+00</td>\n",
       "      <td>0.000000e+00</td>\n",
       "      <td>0.000000</td>\n",
       "      <td>...</td>\n",
       "      <td>0.255000</td>\n",
       "      <td>0.255000</td>\n",
       "      <td>0.100000</td>\n",
       "      <td>0.006000</td>\n",
       "      <td>0.003000</td>\n",
       "      <td>0.002000</td>\n",
       "      <td>0.014000</td>\n",
       "      <td>0.003000</td>\n",
       "      <td>0.000000</td>\n",
       "      <td>0.000000</td>\n",
       "    </tr>\n",
       "    <tr>\n",
       "      <th>P90</th>\n",
       "      <td>0.000000</td>\n",
       "      <td>0.000000</td>\n",
       "      <td>0.120000</td>\n",
       "      <td>0.070000</td>\n",
       "      <td>0.003670</td>\n",
       "      <td>0.066910</td>\n",
       "      <td>0.0</td>\n",
       "      <td>0.000000e+00</td>\n",
       "      <td>0.000000e+00</td>\n",
       "      <td>0.000000</td>\n",
       "      <td>...</td>\n",
       "      <td>0.255000</td>\n",
       "      <td>0.255000</td>\n",
       "      <td>0.100000</td>\n",
       "      <td>0.008000</td>\n",
       "      <td>0.014000</td>\n",
       "      <td>0.005000</td>\n",
       "      <td>0.100000</td>\n",
       "      <td>0.100000</td>\n",
       "      <td>0.000000</td>\n",
       "      <td>0.000000</td>\n",
       "    </tr>\n",
       "    <tr>\n",
       "      <th>P95</th>\n",
       "      <td>0.000000</td>\n",
       "      <td>0.010000</td>\n",
       "      <td>0.140000</td>\n",
       "      <td>0.070000</td>\n",
       "      <td>0.011540</td>\n",
       "      <td>0.117620</td>\n",
       "      <td>0.0</td>\n",
       "      <td>0.000000e+00</td>\n",
       "      <td>0.000000e+00</td>\n",
       "      <td>0.000000</td>\n",
       "      <td>...</td>\n",
       "      <td>0.255000</td>\n",
       "      <td>0.255000</td>\n",
       "      <td>0.100000</td>\n",
       "      <td>0.009000</td>\n",
       "      <td>0.035000</td>\n",
       "      <td>0.006000</td>\n",
       "      <td>0.100000</td>\n",
       "      <td>0.100000</td>\n",
       "      <td>0.076000</td>\n",
       "      <td>0.087000</td>\n",
       "    </tr>\n",
       "    <tr>\n",
       "      <th>P99</th>\n",
       "      <td>0.001500</td>\n",
       "      <td>0.010000</td>\n",
       "      <td>0.530000</td>\n",
       "      <td>0.070000</td>\n",
       "      <td>0.070120</td>\n",
       "      <td>0.309330</td>\n",
       "      <td>0.0</td>\n",
       "      <td>0.000000e+00</td>\n",
       "      <td>0.000000e+00</td>\n",
       "      <td>0.000000</td>\n",
       "      <td>...</td>\n",
       "      <td>0.255000</td>\n",
       "      <td>0.255000</td>\n",
       "      <td>0.100000</td>\n",
       "      <td>0.040000</td>\n",
       "      <td>0.100000</td>\n",
       "      <td>0.018000</td>\n",
       "      <td>0.100000</td>\n",
       "      <td>0.100000</td>\n",
       "      <td>0.100000</td>\n",
       "      <td>0.100000</td>\n",
       "    </tr>\n",
       "    <tr>\n",
       "      <th>MAX</th>\n",
       "      <td>1.000000</td>\n",
       "      <td>0.020000</td>\n",
       "      <td>0.670000</td>\n",
       "      <td>0.100000</td>\n",
       "      <td>1.000000</td>\n",
       "      <td>1.000000</td>\n",
       "      <td>0.0</td>\n",
       "      <td>3.000000e-01</td>\n",
       "      <td>5.000000e-01</td>\n",
       "      <td>1.000000</td>\n",
       "      <td>...</td>\n",
       "      <td>0.255000</td>\n",
       "      <td>0.255000</td>\n",
       "      <td>0.100000</td>\n",
       "      <td>0.100000</td>\n",
       "      <td>0.100000</td>\n",
       "      <td>0.100000</td>\n",
       "      <td>0.100000</td>\n",
       "      <td>0.100000</td>\n",
       "      <td>0.100000</td>\n",
       "      <td>0.100000</td>\n",
       "    </tr>\n",
       "  </tbody>\n",
       "</table>\n",
       "<p>18 rows × 41 columns</p>\n",
       "</div>"
      ],
      "text/plain": [
       "             duration   protocol_type        service           flag  \\\n",
       "N       817543.000000   817543.000000  817543.000000  817543.000000   \n",
       "NMISS        7.000000        7.000000       7.000000       7.000000   \n",
       "SUM        716.808800      465.680000   43254.220000   16481.500000   \n",
       "MEAN         0.000877        0.000570       0.052908       0.020160   \n",
       "MEDIAN       0.000000        0.000000       0.000000       0.000000   \n",
       "STD          0.026636        0.002596       0.096388       0.030960   \n",
       "VAR          0.000709        0.000007       0.009291       0.000958   \n",
       "MIN          0.000000        0.000000       0.000000       0.000000   \n",
       "P1           0.000000        0.000000       0.000000       0.000000   \n",
       "P5           0.000000        0.000000       0.000000       0.000000   \n",
       "P10          0.000000        0.000000       0.000000       0.000000   \n",
       "P25          0.000000        0.000000       0.000000       0.000000   \n",
       "P50          0.000000        0.000000       0.000000       0.000000   \n",
       "P75          0.000000        0.000000       0.120000       0.070000   \n",
       "P90          0.000000        0.000000       0.120000       0.070000   \n",
       "P95          0.000000        0.010000       0.140000       0.070000   \n",
       "P99          0.001500        0.010000       0.530000       0.070000   \n",
       "MAX          1.000000        0.020000       0.670000       0.100000   \n",
       "\n",
       "            src_bytes      dst_bytes      land   wrong_fragment        urgent  \\\n",
       "N       817543.000000  817543.000000  817543.0     8.175430e+05  8.175430e+05   \n",
       "NMISS        7.000000       7.000000       7.0     7.000000e+00  7.000000e+00   \n",
       "SUM       4056.166760   20325.602660       0.0     3.000000e-01  1.800000e+00   \n",
       "MEAN         0.004961       0.024862       0.0     3.669532e-07  2.201719e-06   \n",
       "MEDIAN       0.002170       0.003670       0.0     0.000000e+00  0.000000e+00   \n",
       "STD          0.033235       0.066634       0.0     3.317920e-04  7.662382e-04   \n",
       "VAR          0.001105       0.004440       0.0     1.100860e-07  5.871210e-07   \n",
       "MIN          0.000000       0.000000       0.0     0.000000e+00  0.000000e+00   \n",
       "P1           0.000000       0.000000       0.0     0.000000e+00  0.000000e+00   \n",
       "P5           0.000000       0.000000       0.0     0.000000e+00  0.000000e+00   \n",
       "P10          0.000000       0.000000       0.0     0.000000e+00  0.000000e+00   \n",
       "P25          0.000000       0.000000       0.0     0.000000e+00  0.000000e+00   \n",
       "P50          0.002170       0.003670       0.0     0.000000e+00  0.000000e+00   \n",
       "P75          0.002990       0.019690       0.0     0.000000e+00  0.000000e+00   \n",
       "P90          0.003670       0.066910       0.0     0.000000e+00  0.000000e+00   \n",
       "P95          0.011540       0.117620       0.0     0.000000e+00  0.000000e+00   \n",
       "P99          0.070120       0.309330       0.0     0.000000e+00  0.000000e+00   \n",
       "MAX          1.000000       1.000000       0.0     3.000000e-01  5.000000e-01   \n",
       "\n",
       "                  hot  ...   dst_host_count   dst_host_srv_count  \\\n",
       "N       817543.000000  ...    817543.000000        817543.000000   \n",
       "NMISS        7.000000  ...         7.000000             7.000000   \n",
       "SUM       2007.300000  ...    136423.290000        132158.013000   \n",
       "MEAN         0.002455  ...         0.166870             0.161653   \n",
       "MEDIAN       0.000000  ...         0.255000             0.255000   \n",
       "STD          0.041469  ...         0.102057             0.111642   \n",
       "VAR          0.001720  ...         0.010416             0.012464   \n",
       "MIN          0.000000  ...         0.000000             0.000000   \n",
       "P1           0.000000  ...         0.001000             0.001000   \n",
       "P5           0.000000  ...         0.006000             0.003000   \n",
       "P10          0.000000  ...         0.013000             0.007000   \n",
       "P25          0.000000  ...         0.054000             0.017000   \n",
       "P50          0.000000  ...         0.255000             0.255000   \n",
       "P75          0.000000  ...         0.255000             0.255000   \n",
       "P90          0.000000  ...         0.255000             0.255000   \n",
       "P95          0.000000  ...         0.255000             0.255000   \n",
       "P99          0.000000  ...         0.255000             0.255000   \n",
       "MAX          1.000000  ...         0.255000             0.255000   \n",
       "\n",
       "         dst_host_same_srv_rate   dst_host_diff_srv_rate  \\\n",
       "N                 817543.000000            817543.000000   \n",
       "NMISS                  7.000000                 7.000000   \n",
       "SUM                54607.321000              2763.120000   \n",
       "MEAN                   0.066794                 0.003380   \n",
       "MEDIAN                 0.100000                 0.000000   \n",
       "STD                    0.043421                 0.008556   \n",
       "VAR                    0.001885                 0.000073   \n",
       "MIN                    0.000000                 0.000000   \n",
       "P1                     0.000000                 0.000000   \n",
       "P5                     0.001000                 0.000000   \n",
       "P10                    0.003000                 0.000000   \n",
       "P25                    0.007000                 0.000000   \n",
       "P50                    0.100000                 0.000000   \n",
       "P75                    0.100000                 0.006000   \n",
       "P90                    0.100000                 0.008000   \n",
       "P95                    0.100000                 0.009000   \n",
       "P99                    0.100000                 0.040000   \n",
       "MAX                    0.100000                 0.100000   \n",
       "\n",
       "         dst_host_same_src_port_rate   dst_host_srv_diff_host_rate  \\\n",
       "N                      817543.000000                 817543.000000   \n",
       "NMISS                       7.000000                      7.000000   \n",
       "SUM                      5025.482000                   1375.513000   \n",
       "MEAN                        0.006147                      0.001682   \n",
       "MEDIAN                      0.000000                      0.000000   \n",
       "STD                         0.017458                      0.003708   \n",
       "VAR                         0.000305                      0.000014   \n",
       "MIN                         0.000000                      0.000000   \n",
       "P1                          0.000000                      0.000000   \n",
       "P5                          0.000000                      0.000000   \n",
       "P10                         0.000000                      0.000000   \n",
       "P25                         0.000000                      0.000000   \n",
       "P50                         0.000000                      0.000000   \n",
       "P75                         0.003000                      0.002000   \n",
       "P90                         0.014000                      0.005000   \n",
       "P95                         0.035000                      0.006000   \n",
       "P99                         0.100000                      0.018000   \n",
       "MAX                         0.100000                      0.100000   \n",
       "\n",
       "         dst_host_serror_rate   dst_host_srv_serror_rate  \\\n",
       "N               817543.000000              817543.000000   \n",
       "NMISS                7.000000                   7.000000   \n",
       "SUM              20328.601000               20317.676000   \n",
       "MEAN                 0.024865                   0.024852   \n",
       "MEDIAN               0.000000                   0.000000   \n",
       "STD                  0.043062                   0.043152   \n",
       "VAR                  0.001854                   0.001862   \n",
       "MIN                  0.000000                   0.000000   \n",
       "P1                   0.000000                   0.000000   \n",
       "P5                   0.000000                   0.000000   \n",
       "P10                  0.000000                   0.000000   \n",
       "P25                  0.000000                   0.000000   \n",
       "P50                  0.000000                   0.000000   \n",
       "P75                  0.014000                   0.003000   \n",
       "P90                  0.100000                   0.100000   \n",
       "P95                  0.100000                   0.100000   \n",
       "P99                  0.100000                   0.100000   \n",
       "MAX                  0.100000                   0.100000   \n",
       "\n",
       "         dst_host_rerror_rate   dst_host_srv_rerror_rate  \n",
       "N               817543.000000              817543.000000  \n",
       "NMISS                7.000000                   7.000000  \n",
       "SUM               4392.049000                4315.787000  \n",
       "MEAN                 0.005372                   0.005279  \n",
       "MEDIAN               0.000000                   0.000000  \n",
       "STD                  0.021920                   0.022070  \n",
       "VAR                  0.000480                   0.000487  \n",
       "MIN                  0.000000                   0.000000  \n",
       "P1                   0.000000                   0.000000  \n",
       "P5                   0.000000                   0.000000  \n",
       "P10                  0.000000                   0.000000  \n",
       "P25                  0.000000                   0.000000  \n",
       "P50                  0.000000                   0.000000  \n",
       "P75                  0.000000                   0.000000  \n",
       "P90                  0.000000                   0.000000  \n",
       "P95                  0.076000                   0.087000  \n",
       "P99                  0.100000                   0.100000  \n",
       "MAX                  0.100000                   0.100000  \n",
       "\n",
       "[18 rows x 41 columns]"
      ]
     },
     "execution_count": 14,
     "metadata": {},
     "output_type": "execute_result"
    }
   ],
   "source": [
    "# summaries of continuous variables\n",
    "Data.select_dtypes(['float64']).apply(continuous_var_summary)"
   ]
  },
  {
   "cell_type": "code",
   "execution_count": null,
   "id": "ca1768a8",
   "metadata": {},
   "outputs": [],
   "source": []
  },
  {
   "cell_type": "code",
   "execution_count": 15,
   "id": "b1d79d2b",
   "metadata": {},
   "outputs": [
    {
     "data": {
      "text/plain": [
       "Normal    0.705413\n",
       "Attack    0.294587\n",
       "Name: ATTACK, dtype: float64"
      ]
     },
     "execution_count": 15,
     "metadata": {},
     "output_type": "execute_result"
    }
   ],
   "source": [
    "Data.ATTACK.value_counts()/Data.shape[0]"
   ]
  },
  {
   "cell_type": "code",
   "execution_count": null,
   "id": "d1a4f4e8",
   "metadata": {},
   "outputs": [],
   "source": []
  },
  {
   "cell_type": "code",
   "execution_count": 16,
   "id": "594ffe9e",
   "metadata": {},
   "outputs": [
    {
     "data": {
      "image/png": "[encoded data removed]",
      "text/plain": [
       "<Figure size 432x288 with 1 Axes>"
      ]
     },
     "metadata": {
      "needs_background": "light"
     },
     "output_type": "display_data"
    }
   ],
   "source": [
    "sns.countplot(x=Data.ATTACK)\n",
    "plt.show()"
   ]
  },
  {
   "cell_type": "code",
   "execution_count": 17,
   "id": "ef0e8564",
   "metadata": {},
   "outputs": [
    {
     "data": {
      "image/png": "[encoded data removed]",
      "text/plain": [
       "<Figure size 432x288 with 2 Axes>"
      ]
     },
     "metadata": {
      "needs_background": "light"
     },
     "output_type": "display_data"
    }
   ],
   "source": [
    "# Check the corr between the variables\n",
    "sns.heatmap(Data.corr())\n",
    "plt.show()"
   ]
  },
  {
   "cell_type": "markdown",
   "id": "91e816cc",
   "metadata": {},
   "source": [
    "### Feature Selection"
   ]
  },
  {
   "cell_type": "code",
   "execution_count": 17,
   "id": "9d570b89",
   "metadata": {},
   "outputs": [],
   "source": [
    "from sklearn.linear_model import LogisticRegression\n",
    "from sklearn.feature_selection import RFE"
   ]
  },
  {
   "cell_type": "code",
   "execution_count": 18,
   "id": "606cbee3",
   "metadata": {},
   "outputs": [],
   "source": [
    "# get the y and X varaibales\n",
    "y_var='ATTACK'\n",
    "x_var=Data.columns.difference(['ATTACK'])"
   ]
  },
  {
   "cell_type": "code",
   "execution_count": 19,
   "id": "45aca37f",
   "metadata": {},
   "outputs": [],
   "source": [
    "Data[x_var]=Data[x_var].apply(lambda x:missing_imputation(x))"
   ]
  },
  {
   "cell_type": "code",
   "execution_count": 20,
   "id": "f8ce9479",
   "metadata": {},
   "outputs": [],
   "source": [
    "#running logistic regression model\n",
    "logreg=LogisticRegression(max_iter=1000)"
   ]
  },
  {
   "cell_type": "code",
   "execution_count": 21,
   "id": "92366663",
   "metadata": {},
   "outputs": [],
   "source": [
    "# RFE for feature selection\n",
    "rfe=RFE(logreg,n_features_to_select=20).fit(Data[x_var],Data[y_var])"
   ]
  },
  {
   "cell_type": "code",
   "execution_count": 22,
   "id": "0072833d",
   "metadata": {},
   "outputs": [
    {
     "data": {
      "text/plain": [
       "array([ True, False, False,  True,  True, False,  True, False,  True,\n",
       "        True, False,  True,  True,  True, False, False, False, False,\n",
       "        True, False,  True, False,  True, False,  True, False,  True,\n",
       "       False, False,  True,  True, False,  True, False,  True,  True,\n",
       "        True, False, False, False, False])"
      ]
     },
     "execution_count": 22,
     "metadata": {},
     "output_type": "execute_result"
    }
   ],
   "source": [
    "rfe.support_"
   ]
  },
  {
   "cell_type": "code",
   "execution_count": 23,
   "id": "7c636fac",
   "metadata": {},
   "outputs": [],
   "source": [
    "RFE_Output = pd.DataFrame([x_var, rfe.support_, rfe.ranking_]).T\n",
    "RFE_Output.columns = ['Features', 'support', 'ranking']"
   ]
  },
  {
   "cell_type": "code",
   "execution_count": 25,
   "id": "f259337d",
   "metadata": {},
   "outputs": [
    {
     "data": {
      "text/html": [
       "<div>\n",
       "<style scoped>\n",
       "    .dataframe tbody tr th:only-of-type {\n",
       "        vertical-align: middle;\n",
       "    }\n",
       "\n",
       "    .dataframe tbody tr th {\n",
       "        vertical-align: top;\n",
       "    }\n",
       "\n",
       "    .dataframe thead th {\n",
       "        text-align: right;\n",
       "    }\n",
       "</style>\n",
       "<table border=\"1\" class=\"dataframe\">\n",
       "  <thead>\n",
       "    <tr style=\"text-align: right;\">\n",
       "      <th></th>\n",
       "      <th>Features</th>\n",
       "      <th>support</th>\n",
       "      <th>ranking</th>\n",
       "    </tr>\n",
       "  </thead>\n",
       "  <tbody>\n",
       "    <tr>\n",
       "      <th>0</th>\n",
       "      <td>count</td>\n",
       "      <td>True</td>\n",
       "      <td>1</td>\n",
       "    </tr>\n",
       "    <tr>\n",
       "      <th>36</th>\n",
       "      <td>srv_rerror_rate</td>\n",
       "      <td>True</td>\n",
       "      <td>1</td>\n",
       "    </tr>\n",
       "    <tr>\n",
       "      <th>35</th>\n",
       "      <td>srv_error_rate</td>\n",
       "      <td>True</td>\n",
       "      <td>1</td>\n",
       "    </tr>\n",
       "    <tr>\n",
       "      <th>34</th>\n",
       "      <td>srv_diff_host_rate</td>\n",
       "      <td>True</td>\n",
       "      <td>1</td>\n",
       "    </tr>\n",
       "    <tr>\n",
       "      <th>32</th>\n",
       "      <td>src_bytes</td>\n",
       "      <td>True</td>\n",
       "      <td>1</td>\n",
       "    </tr>\n",
       "    <tr>\n",
       "      <th>30</th>\n",
       "      <td>serror_rate</td>\n",
       "      <td>True</td>\n",
       "      <td>1</td>\n",
       "    </tr>\n",
       "    <tr>\n",
       "      <th>29</th>\n",
       "      <td>same_srv_rate</td>\n",
       "      <td>True</td>\n",
       "      <td>1</td>\n",
       "    </tr>\n",
       "    <tr>\n",
       "      <th>26</th>\n",
       "      <td>protocol_type</td>\n",
       "      <td>True</td>\n",
       "      <td>1</td>\n",
       "    </tr>\n",
       "    <tr>\n",
       "      <th>24</th>\n",
       "      <td>num_root</td>\n",
       "      <td>True</td>\n",
       "      <td>1</td>\n",
       "    </tr>\n",
       "    <tr>\n",
       "      <th>22</th>\n",
       "      <td>num_file_creations</td>\n",
       "      <td>True</td>\n",
       "      <td>1</td>\n",
       "    </tr>\n",
       "    <tr>\n",
       "      <th>18</th>\n",
       "      <td>logged_in</td>\n",
       "      <td>True</td>\n",
       "      <td>1</td>\n",
       "    </tr>\n",
       "    <tr>\n",
       "      <th>13</th>\n",
       "      <td>flag</td>\n",
       "      <td>True</td>\n",
       "      <td>1</td>\n",
       "    </tr>\n",
       "    <tr>\n",
       "      <th>20</th>\n",
       "      <td>num_compromised</td>\n",
       "      <td>True</td>\n",
       "      <td>1</td>\n",
       "    </tr>\n",
       "    <tr>\n",
       "      <th>11</th>\n",
       "      <td>dst_host_srv_rerror_rate</td>\n",
       "      <td>True</td>\n",
       "      <td>1</td>\n",
       "    </tr>\n",
       "    <tr>\n",
       "      <th>3</th>\n",
       "      <td>dst_host_count</td>\n",
       "      <td>True</td>\n",
       "      <td>1</td>\n",
       "    </tr>\n",
       "    <tr>\n",
       "      <th>4</th>\n",
       "      <td>dst_host_diff_srv_rate</td>\n",
       "      <td>True</td>\n",
       "      <td>1</td>\n",
       "    </tr>\n",
       "    <tr>\n",
       "      <th>6</th>\n",
       "      <td>dst_host_same_src_port_rate</td>\n",
       "      <td>True</td>\n",
       "      <td>1</td>\n",
       "    </tr>\n",
       "    <tr>\n",
       "      <th>12</th>\n",
       "      <td>dst_host_srv_serror_rate</td>\n",
       "      <td>True</td>\n",
       "      <td>1</td>\n",
       "    </tr>\n",
       "    <tr>\n",
       "      <th>8</th>\n",
       "      <td>dst_host_serror_rate</td>\n",
       "      <td>True</td>\n",
       "      <td>1</td>\n",
       "    </tr>\n",
       "    <tr>\n",
       "      <th>9</th>\n",
       "      <td>dst_host_srv_count</td>\n",
       "      <td>True</td>\n",
       "      <td>1</td>\n",
       "    </tr>\n",
       "    <tr>\n",
       "      <th>10</th>\n",
       "      <td>dst_host_srv_diff_host_rate</td>\n",
       "      <td>False</td>\n",
       "      <td>2</td>\n",
       "    </tr>\n",
       "    <tr>\n",
       "      <th>15</th>\n",
       "      <td>is_guest_login</td>\n",
       "      <td>False</td>\n",
       "      <td>3</td>\n",
       "    </tr>\n",
       "    <tr>\n",
       "      <th>14</th>\n",
       "      <td>hot</td>\n",
       "      <td>False</td>\n",
       "      <td>4</td>\n",
       "    </tr>\n",
       "    <tr>\n",
       "      <th>7</th>\n",
       "      <td>dst_host_same_srv_rate</td>\n",
       "      <td>False</td>\n",
       "      <td>5</td>\n",
       "    </tr>\n",
       "    <tr>\n",
       "      <th>31</th>\n",
       "      <td>service</td>\n",
       "      <td>False</td>\n",
       "      <td>6</td>\n",
       "    </tr>\n",
       "    <tr>\n",
       "      <th>27</th>\n",
       "      <td>rerror_rate</td>\n",
       "      <td>False</td>\n",
       "      <td>7</td>\n",
       "    </tr>\n",
       "    <tr>\n",
       "      <th>21</th>\n",
       "      <td>num_failed_logins</td>\n",
       "      <td>False</td>\n",
       "      <td>8</td>\n",
       "    </tr>\n",
       "    <tr>\n",
       "      <th>33</th>\n",
       "      <td>srv_count</td>\n",
       "      <td>False</td>\n",
       "      <td>9</td>\n",
       "    </tr>\n",
       "    <tr>\n",
       "      <th>19</th>\n",
       "      <td>num_access_files</td>\n",
       "      <td>False</td>\n",
       "      <td>10</td>\n",
       "    </tr>\n",
       "    <tr>\n",
       "      <th>5</th>\n",
       "      <td>dst_host_rerror_rate</td>\n",
       "      <td>False</td>\n",
       "      <td>11</td>\n",
       "    </tr>\n",
       "    <tr>\n",
       "      <th>37</th>\n",
       "      <td>su_attempted</td>\n",
       "      <td>False</td>\n",
       "      <td>12</td>\n",
       "    </tr>\n",
       "    <tr>\n",
       "      <th>2</th>\n",
       "      <td>dst_bytes</td>\n",
       "      <td>False</td>\n",
       "      <td>13</td>\n",
       "    </tr>\n",
       "    <tr>\n",
       "      <th>1</th>\n",
       "      <td>diff_srv_rate</td>\n",
       "      <td>False</td>\n",
       "      <td>14</td>\n",
       "    </tr>\n",
       "    <tr>\n",
       "      <th>40</th>\n",
       "      <td>duration</td>\n",
       "      <td>False</td>\n",
       "      <td>15</td>\n",
       "    </tr>\n",
       "    <tr>\n",
       "      <th>39</th>\n",
       "      <td>wrong_fragment</td>\n",
       "      <td>False</td>\n",
       "      <td>16</td>\n",
       "    </tr>\n",
       "    <tr>\n",
       "      <th>25</th>\n",
       "      <td>num_shells</td>\n",
       "      <td>False</td>\n",
       "      <td>17</td>\n",
       "    </tr>\n",
       "    <tr>\n",
       "      <th>38</th>\n",
       "      <td>urgent</td>\n",
       "      <td>False</td>\n",
       "      <td>18</td>\n",
       "    </tr>\n",
       "    <tr>\n",
       "      <th>28</th>\n",
       "      <td>root_shell</td>\n",
       "      <td>False</td>\n",
       "      <td>19</td>\n",
       "    </tr>\n",
       "    <tr>\n",
       "      <th>16</th>\n",
       "      <td>is_host_login</td>\n",
       "      <td>False</td>\n",
       "      <td>20</td>\n",
       "    </tr>\n",
       "    <tr>\n",
       "      <th>23</th>\n",
       "      <td>num_outbound_cmds</td>\n",
       "      <td>False</td>\n",
       "      <td>21</td>\n",
       "    </tr>\n",
       "    <tr>\n",
       "      <th>17</th>\n",
       "      <td>land</td>\n",
       "      <td>False</td>\n",
       "      <td>22</td>\n",
       "    </tr>\n",
       "  </tbody>\n",
       "</table>\n",
       "</div>"
      ],
      "text/plain": [
       "                        Features support ranking\n",
       "0                          count    True       1\n",
       "36               srv_rerror_rate    True       1\n",
       "35                srv_error_rate    True       1\n",
       "34            srv_diff_host_rate    True       1\n",
       "32                     src_bytes    True       1\n",
       "30                   serror_rate    True       1\n",
       "29                 same_srv_rate    True       1\n",
       "26                 protocol_type    True       1\n",
       "24                      num_root    True       1\n",
       "22            num_file_creations    True       1\n",
       "18                     logged_in    True       1\n",
       "13                          flag    True       1\n",
       "20               num_compromised    True       1\n",
       "11      dst_host_srv_rerror_rate    True       1\n",
       "3                 dst_host_count    True       1\n",
       "4         dst_host_diff_srv_rate    True       1\n",
       "6    dst_host_same_src_port_rate    True       1\n",
       "12      dst_host_srv_serror_rate    True       1\n",
       "8           dst_host_serror_rate    True       1\n",
       "9             dst_host_srv_count    True       1\n",
       "10   dst_host_srv_diff_host_rate   False       2\n",
       "15                is_guest_login   False       3\n",
       "14                           hot   False       4\n",
       "7         dst_host_same_srv_rate   False       5\n",
       "31                       service   False       6\n",
       "27                   rerror_rate   False       7\n",
       "21             num_failed_logins   False       8\n",
       "33                     srv_count   False       9\n",
       "19              num_access_files   False      10\n",
       "5           dst_host_rerror_rate   False      11\n",
       "37                  su_attempted   False      12\n",
       "2                      dst_bytes   False      13\n",
       "1                  diff_srv_rate   False      14\n",
       "40                      duration   False      15\n",
       "39                wrong_fragment   False      16\n",
       "25                    num_shells   False      17\n",
       "38                        urgent   False      18\n",
       "28                    root_shell   False      19\n",
       "16                 is_host_login   False      20\n",
       "23             num_outbound_cmds   False      21\n",
       "17                          land   False      22"
      ]
     },
     "execution_count": 25,
     "metadata": {},
     "output_type": "execute_result"
    }
   ],
   "source": [
    "RFE_Output.sort_values(by='ranking')"
   ]
  },
  {
   "cell_type": "code",
   "execution_count": 24,
   "id": "24b4427e",
   "metadata": {},
   "outputs": [],
   "source": [
    "X_final=Data[x_var[rfe.support_]]\n",
    "Y_final=Data['ATTACK']"
   ]
  },
  {
   "cell_type": "code",
   "execution_count": null,
   "id": "3420ab29",
   "metadata": {},
   "outputs": [],
   "source": []
  },
  {
   "cell_type": "markdown",
   "id": "0c80674a",
   "metadata": {},
   "source": [
    "### Build the model"
   ]
  },
  {
   "cell_type": "code",
   "execution_count": 51,
   "id": "764e2da4",
   "metadata": {},
   "outputs": [],
   "source": [
    "from sklearn.neighbors import KNeighborsClassifier\n",
    "from sklearn.tree import DecisionTreeClassifier\n",
    "from sklearn.naive_bayes import BernoulliNB\n",
    "from sklearn.model_selection import train_test_split\n",
    "from sklearn import metrics\n",
    "from sklearn.model_selection import GridSearchCV"
   ]
  },
  {
   "cell_type": "code",
   "execution_count": 26,
   "id": "20efd020",
   "metadata": {},
   "outputs": [],
   "source": [
    "# data set partition\n",
    "X_train,X_test,Y_train,Y_test=train_test_split(X_final,Y_final,\n",
    "                                               train_size=0.7,\n",
    "                                              random_state=1234)"
   ]
  },
  {
   "cell_type": "markdown",
   "id": "6ac91a40",
   "metadata": {},
   "source": [
    "#### Trying the Decison Tree Model"
   ]
  },
  {
   "cell_type": "code",
   "execution_count": 34,
   "id": "4bd47c08",
   "metadata": {},
   "outputs": [
    {
     "name": "stdout",
     "output_type": "stream",
     "text": [
      "Fitting 5 folds for each of 40 candidates, totalling 200 fits\n"
     ]
    }
   ],
   "source": [
    "### set the tuning parameters\n",
    "tune_param={'max_depth':range(10,15)\n",
    "           }\n",
    "\n",
    "#build the model\n",
    "tree1=GridSearchCV(DecisionTreeClassifier(random_state=1),\n",
    "                       tune_param,\n",
    "                       verbose=True,\n",
    "                       cv=5,\n",
    "                       scoring='roc_auc',\n",
    "                  n_jobs=-1).fit(X_train,Y_train)"
   ]
  },
  {
   "cell_type": "code",
   "execution_count": 35,
   "id": "41b2ef3d",
   "metadata": {},
   "outputs": [
    {
     "data": {
      "text/plain": [
       "{'max_depth': 13, 'min_samples_leaf': 9}"
      ]
     },
     "execution_count": 35,
     "metadata": {},
     "output_type": "execute_result"
    }
   ],
   "source": [
    "tree1.best_params_"
   ]
  },
  {
   "cell_type": "code",
   "execution_count": 39,
   "id": "e9d087f8",
   "metadata": {},
   "outputs": [
    {
     "data": {
      "text/plain": [
       "0.9999949549788043"
      ]
     },
     "execution_count": 39,
     "metadata": {},
     "output_type": "execute_result"
    }
   ],
   "source": [
    "metrics.roc_auc_score(Y_train,tree1.predict_proba(X_train)[:, 1])"
   ]
  },
  {
   "cell_type": "code",
   "execution_count": null,
   "id": "b1003859",
   "metadata": {},
   "outputs": [],
   "source": [
    "#building the model with best param\n",
    "tree2=DecisionTreeClassifier(random_state=12,max_depth=13).fit(X_train,Y_train)"
   ]
  },
  {
   "cell_type": "code",
   "execution_count": null,
   "id": "b2feccbd",
   "metadata": {},
   "outputs": [],
   "source": []
  },
  {
   "cell_type": "markdown",
   "id": "ddf6355f",
   "metadata": {},
   "source": [
    "### Evaluate the decision Tree model"
   ]
  },
  {
   "cell_type": "code",
   "execution_count": 65,
   "id": "0cb77870",
   "metadata": {},
   "outputs": [
    {
     "name": "stdout",
     "output_type": "stream",
     "text": [
      "0.9998811780843461\n"
     ]
    }
   ],
   "source": [
    "# get the model accuracy\n",
    "print(metrics.accuracy_score(Y_train, tree2.predict(X_train)))"
   ]
  },
  {
   "cell_type": "code",
   "execution_count": 66,
   "id": "43fde14f",
   "metadata": {},
   "outputs": [],
   "source": [
    "# get the probability score on training\n",
    "train_predict_prob = pd.DataFrame(tree2.predict_proba(X_train))[1]"
   ]
  },
  {
   "cell_type": "code",
   "execution_count": 67,
   "id": "f9effeef",
   "metadata": {},
   "outputs": [
    {
     "name": "stdout",
     "output_type": "stream",
     "text": [
      "0.9999814407015515\n"
     ]
    }
   ],
   "source": [
    "# get the model auc\n",
    "print(metrics.roc_auc_score(Y_train, train_predict_prob))"
   ]
  },
  {
   "cell_type": "code",
   "execution_count": 68,
   "id": "a21035a7",
   "metadata": {},
   "outputs": [
    {
     "data": {
      "text/plain": [
       "Text(0.5, 15.0, 'Predicted label')"
      ]
     },
     "execution_count": 68,
     "metadata": {},
     "output_type": "execute_result"
    },
    {
     "data": {
      "image/png": "[encoded data removed]",
      "text/plain": [
       "<Figure size 432x288 with 2 Axes>"
      ]
     },
     "metadata": {
      "needs_background": "light"
     },
     "output_type": "display_data"
    }
   ],
   "source": [
    "#getting the confusion matrix\n",
    "dc_cm=metrics.confusion_matrix(Y_train, tree2.predict(X_train))\n",
    "sns.heatmap(dc_cm, annot=True,  fmt='.2f', xticklabels = [\"no\", \"Yes\"] , yticklabels = [\"No\", \"Yes\"] )\n",
    "plt.ylabel('True label')\n",
    "plt.xlabel('Predicted label')"
   ]
  },
  {
   "cell_type": "code",
   "execution_count": 69,
   "id": "08286139",
   "metadata": {},
   "outputs": [
    {
     "name": "stdout",
     "output_type": "stream",
     "text": [
      "              precision    recall  f1-score   support\n",
      "\n",
      "      Attack       1.00      1.00      1.00    168653\n",
      "      Normal       1.00      1.00      1.00    403632\n",
      "\n",
      "    accuracy                           1.00    572285\n",
      "   macro avg       1.00      1.00      1.00    572285\n",
      "weighted avg       1.00      1.00      1.00    572285\n",
      "\n"
     ]
    }
   ],
   "source": [
    "# Compute precision, recall, F-measure and support\n",
    "from sklearn.metrics import classification_report\n",
    "print(classification_report(Y_train, tree2.predict( X_train )))"
   ]
  },
  {
   "cell_type": "markdown",
   "id": "ca279836",
   "metadata": {},
   "source": [
    "### Validate the model on Test Data"
   ]
  },
  {
   "cell_type": "code",
   "execution_count": 70,
   "id": "ce657d62",
   "metadata": {},
   "outputs": [
    {
     "name": "stdout",
     "output_type": "stream",
     "text": [
      "0.9997023627504944\n"
     ]
    }
   ],
   "source": [
    "# get the model accuracy\n",
    "print(metrics.accuracy_score(Y_test, tree2.predict(X_test)))"
   ]
  },
  {
   "cell_type": "code",
   "execution_count": 71,
   "id": "54e18fdf",
   "metadata": {},
   "outputs": [],
   "source": [
    "# get the probability score on testing\n",
    "test_predict_prob = pd.DataFrame(tree2.predict_proba(X_test))[1]"
   ]
  },
  {
   "cell_type": "code",
   "execution_count": 73,
   "id": "faad1ddf",
   "metadata": {},
   "outputs": [
    {
     "name": "stdout",
     "output_type": "stream",
     "text": [
      "0.999707279663026\n"
     ]
    }
   ],
   "source": [
    "# get the model auc\n",
    "print(metrics.roc_auc_score(Y_test, test_predict_prob))"
   ]
  },
  {
   "cell_type": "code",
   "execution_count": 74,
   "id": "9bdc0d8c",
   "metadata": {},
   "outputs": [
    {
     "data": {
      "text/plain": [
       "Text(0.5, 15.0, 'Predicted label')"
      ]
     },
     "execution_count": 74,
     "metadata": {},
     "output_type": "execute_result"
    },
    {
     "data": {
      "image/png": "[encoded data removed]",
      "text/plain": [
       "<Figure size 432x288 with 2 Axes>"
      ]
     },
     "metadata": {
      "needs_background": "light"
     },
     "output_type": "display_data"
    }
   ],
   "source": [
    "#getting the confusion matrix\n",
    "dc_cm=metrics.confusion_matrix(Y_test, tree2.predict(X_test))\n",
    "sns.heatmap(dc_cm, annot=True,  fmt='.2f', xticklabels = [\"no\", \"Yes\"] , yticklabels = [\"No\", \"Yes\"] )\n",
    "plt.ylabel('True label')\n",
    "plt.xlabel('Predicted label')"
   ]
  },
  {
   "cell_type": "code",
   "execution_count": 81,
   "id": "4d082adc",
   "metadata": {},
   "outputs": [
    {
     "name": "stdout",
     "output_type": "stream",
     "text": [
      "              precision    recall  f1-score   support\n",
      "\n",
      "      Attack       1.00      1.00      1.00     72187\n",
      "      Normal       1.00      1.00      1.00    173078\n",
      "\n",
      "    accuracy                           1.00    245265\n",
      "   macro avg       1.00      1.00      1.00    245265\n",
      "weighted avg       1.00      1.00      1.00    245265\n",
      "\n"
     ]
    }
   ],
   "source": [
    "# Compute precision, recall, F-measure and support\n",
    "print(classification_report(Y_test, tree2.predict( X_test )))"
   ]
  },
  {
   "cell_type": "code",
   "execution_count": null,
   "id": "19dbe677",
   "metadata": {},
   "outputs": [],
   "source": []
  },
  {
   "cell_type": "markdown",
   "id": "f1124401",
   "metadata": {},
   "source": [
    "## Using the Naive Bayse model"
   ]
  },
  {
   "cell_type": "code",
   "execution_count": 76,
   "id": "769654e6",
   "metadata": {},
   "outputs": [],
   "source": [
    "from sklearn.naive_bayes import BernoulliNB"
   ]
  },
  {
   "cell_type": "code",
   "execution_count": 77,
   "id": "678daedb",
   "metadata": {},
   "outputs": [],
   "source": [
    "model_NB=BernoulliNB().fit(X_train,Y_train)"
   ]
  },
  {
   "cell_type": "code",
   "execution_count": null,
   "id": "5de42bf8",
   "metadata": {},
   "outputs": [],
   "source": []
  },
  {
   "cell_type": "markdown",
   "id": "a4ff2a2b",
   "metadata": {},
   "source": [
    "#### Evaluate Naive bayse model"
   ]
  },
  {
   "cell_type": "code",
   "execution_count": 80,
   "id": "31b8c1d1",
   "metadata": {},
   "outputs": [
    {
     "name": "stdout",
     "output_type": "stream",
     "text": [
      "GaussianNB model accuracy on train data: 0.990\n"
     ]
    }
   ],
   "source": [
    "#Accuracy score\n",
    "accuracy=metrics.accuracy_score( Y_train, model_NB.predict( X_train ) )\n",
    "print(\"GaussianNB model accuracy on train data: %.3f\" % (accuracy))"
   ]
  },
  {
   "cell_type": "code",
   "execution_count": 78,
   "id": "f75d107d",
   "metadata": {},
   "outputs": [
    {
     "data": {
      "text/plain": [
       "Text(0.5, 15.0, 'Predicted label')"
      ]
     },
     "execution_count": 78,
     "metadata": {},
     "output_type": "execute_result"
    },
    {
     "data": {
      "image/png": "[encoded data removed]",
      "text/plain": [
       "<Figure size 432x288 with 2 Axes>"
      ]
     },
     "metadata": {
      "needs_background": "light"
     },
     "output_type": "display_data"
    }
   ],
   "source": [
    "#Confusion Matrix\n",
    "nb_cm=metrics.confusion_matrix( Y_train,model_NB.predict(X_train) )\n",
    "sns.heatmap(nb_cm, annot=True,  fmt='.2f', xticklabels = [\"no\", \"Yes\"] , yticklabels = [\"No\", \"Yes\"] )\n",
    "plt.ylabel('True label')\n",
    "plt.xlabel('Predicted label')"
   ]
  },
  {
   "cell_type": "code",
   "execution_count": 82,
   "id": "8a609f59",
   "metadata": {},
   "outputs": [
    {
     "name": "stdout",
     "output_type": "stream",
     "text": [
      "              precision    recall  f1-score   support\n",
      "\n",
      "      Attack       1.00      0.97      0.98    168653\n",
      "      Normal       0.99      1.00      0.99    403632\n",
      "\n",
      "    accuracy                           0.99    572285\n",
      "   macro avg       0.99      0.98      0.99    572285\n",
      "weighted avg       0.99      0.99      0.99    572285\n",
      "\n"
     ]
    }
   ],
   "source": [
    "# Compute precision, recall, F-measure and support\n",
    "print(classification_report(Y_train, model_NB.predict( X_train )))"
   ]
  },
  {
   "cell_type": "markdown",
   "id": "5f3b9a5a",
   "metadata": {},
   "source": [
    "### Validate the model"
   ]
  },
  {
   "cell_type": "code",
   "execution_count": 83,
   "id": "5a7286e5",
   "metadata": {},
   "outputs": [
    {
     "name": "stdout",
     "output_type": "stream",
     "text": [
      "GaussianNB model accuracy on test data: 0.990\n"
     ]
    }
   ],
   "source": [
    "#Accuracy score\n",
    "accuracy=metrics.accuracy_score( Y_test, model_NB.predict( X_test ) )\n",
    "print(\"GaussianNB model accuracy on test data: %.3f\" % (accuracy))"
   ]
  },
  {
   "cell_type": "code",
   "execution_count": 84,
   "id": "8cf68b63",
   "metadata": {},
   "outputs": [
    {
     "data": {
      "text/plain": [
       "Text(0.5, 15.0, 'Predicted label')"
      ]
     },
     "execution_count": 84,
     "metadata": {},
     "output_type": "execute_result"
    },
    {
     "data": {
      "image/png": "[encoded data removed]",
      "text/plain": [
       "<Figure size 432x288 with 2 Axes>"
      ]
     },
     "metadata": {
      "needs_background": "light"
     },
     "output_type": "display_data"
    }
   ],
   "source": [
    "#Confusion Matrix\n",
    "nb_cm=metrics.confusion_matrix( Y_test,model_NB.predict(X_test) )\n",
    "sns.heatmap(nb_cm, annot=True,  fmt='.2f', xticklabels = [\"no\", \"Yes\"] , yticklabels = [\"No\", \"Yes\"] )\n",
    "plt.ylabel('True label')\n",
    "plt.xlabel('Predicted label')"
   ]
  },
  {
   "cell_type": "code",
   "execution_count": 63,
   "id": "cff77514",
   "metadata": {},
   "outputs": [
    {
     "name": "stdout",
     "output_type": "stream",
     "text": [
      "              precision    recall  f1-score   support\n",
      "\n",
      "      Attack       1.00      0.97      0.98     72187\n",
      "      Normal       0.99      1.00      0.99    173078\n",
      "\n",
      "    accuracy                           0.99    245265\n",
      "   macro avg       0.99      0.98      0.99    245265\n",
      "weighted avg       0.99      0.99      0.99    245265\n",
      "\n"
     ]
    }
   ],
   "source": [
    "# Compute precision, recall, F-measure and support\n",
    "print(classification_report(Y_test, model_NB.predict( X_test )))"
   ]
  },
  {
   "cell_type": "code",
   "execution_count": null,
   "id": "44b25550",
   "metadata": {},
   "outputs": [],
   "source": []
  }
 ],
 "metadata": {
  "kernelspec": {
   "display_name": "Python 3",
   "language": "python",
   "name": "python3"
  },
  "language_info": {
   "codemirror_mode": {
    "name": "ipython",
    "version": 3
   },
   "file_extension": ".py",
   "mimetype": "text/x-python",
   "name": "python",
   "nbconvert_exporter": "python",
   "pygments_lexer": "ipython3",
   "version": "3.8.8"
  }
 },
 "nbformat": 4,
 "nbformat_minor": 5
}
